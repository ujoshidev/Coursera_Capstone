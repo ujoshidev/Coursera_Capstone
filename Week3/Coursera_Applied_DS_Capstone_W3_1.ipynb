{
  "nbformat": 4,
  "nbformat_minor": 0,
  "metadata": {
    "colab": {
      "name": "Coursera Applied DS Capstone.ipynb",
      "provenance": [],
      "collapsed_sections": [],
      "authorship_tag": "ABX9TyMHfvr7EWhS5fy1fSEPTOPz"
    },
    "kernelspec": {
      "name": "python3",
      "display_name": "Python 3"
    },
    "language_info": {
      "name": "python"
    }
  },
  "cells": [
    {
      "cell_type": "markdown",
      "metadata": {
        "id": "8pC6zCCPrQYU"
      },
      "source": [
        "# Coursera Applied Data Science Capstone Project"
      ]
    },
    {
      "cell_type": "markdown",
      "metadata": {
        "id": "AQUMDQB_gJC-"
      },
      "source": [
        "#### Applied DS: Week3 Assignment"
      ]
    },
    {
      "cell_type": "code",
      "metadata": {
        "id": "49rqHM8erMWB",
        "colab": {
          "base_uri": "https://localhost:8080/"
        },
        "outputId": "3e9343d2-afcc-4e51-e5a0-42fefbd1e1ea"
      },
      "source": [
        "#Import libraries\n",
        "import pandas as pd\n",
        "import numpy as np\n",
        "import re\n",
        "print('success')"
      ],
      "execution_count": 1,
      "outputs": [
        {
          "output_type": "stream",
          "text": [
            "success\n"
          ],
          "name": "stdout"
        }
      ]
    },
    {
      "cell_type": "code",
      "metadata": {
        "colab": {
          "base_uri": "https://localhost:8080/",
          "height": 230
        },
        "id": "9NBCgiiQr05k",
        "outputId": "fcb91784-ad65-447d-9aac-709559820ba4"
      },
      "source": [
        "#Load Data into dataframe\n",
        "df1 =pd.read_html('https://en.wikipedia.org/wiki/List_of_postal_codes_of_Canada:_M')[0]\n",
        "print(df1.shape)\n",
        "df1.head(2)"
      ],
      "execution_count": 2,
      "outputs": [
        {
          "output_type": "stream",
          "text": [
            "(20, 9)\n"
          ],
          "name": "stdout"
        },
        {
          "output_type": "execute_result",
          "data": {
            "text/html": [
              "<div>\n",
              "<style scoped>\n",
              "    .dataframe tbody tr th:only-of-type {\n",
              "        vertical-align: middle;\n",
              "    }\n",
              "\n",
              "    .dataframe tbody tr th {\n",
              "        vertical-align: top;\n",
              "    }\n",
              "\n",
              "    .dataframe thead th {\n",
              "        text-align: right;\n",
              "    }\n",
              "</style>\n",
              "<table border=\"1\" class=\"dataframe\">\n",
              "  <thead>\n",
              "    <tr style=\"text-align: right;\">\n",
              "      <th></th>\n",
              "      <th>0</th>\n",
              "      <th>1</th>\n",
              "      <th>2</th>\n",
              "      <th>3</th>\n",
              "      <th>4</th>\n",
              "      <th>5</th>\n",
              "      <th>6</th>\n",
              "      <th>7</th>\n",
              "      <th>8</th>\n",
              "    </tr>\n",
              "  </thead>\n",
              "  <tbody>\n",
              "    <tr>\n",
              "      <th>0</th>\n",
              "      <td>M1ANot assigned</td>\n",
              "      <td>M2ANot assigned</td>\n",
              "      <td>M3ANorth York(Parkwoods)</td>\n",
              "      <td>M4ANorth York(Victoria Village)</td>\n",
              "      <td>M5ADowntown Toronto(Regent Park / Harbourfront)</td>\n",
              "      <td>M6ANorth York(Lawrence Manor / Lawrence Heights)</td>\n",
              "      <td>M7AQueen's Park(Ontario Provincial Government)</td>\n",
              "      <td>M8ANot assigned</td>\n",
              "      <td>M9AEtobicoke(Islington Avenue)</td>\n",
              "    </tr>\n",
              "    <tr>\n",
              "      <th>1</th>\n",
              "      <td>M1BScarborough(Malvern / Rouge)</td>\n",
              "      <td>M2BNot assigned</td>\n",
              "      <td>M3BNorth York(Don Mills)North</td>\n",
              "      <td>M4BEast York(Parkview Hill / Woodbine Gardens)</td>\n",
              "      <td>M5BDowntown Toronto(Garden District, Ryerson)</td>\n",
              "      <td>M6BNorth York(Glencairn)</td>\n",
              "      <td>M7BNot assigned</td>\n",
              "      <td>M8BNot assigned</td>\n",
              "      <td>M9BEtobicoke(West Deane Park / Princess Garden...</td>\n",
              "    </tr>\n",
              "  </tbody>\n",
              "</table>\n",
              "</div>"
            ],
            "text/plain": [
              "                                 0  ...                                                  8\n",
              "0                  M1ANot assigned  ...                     M9AEtobicoke(Islington Avenue)\n",
              "1  M1BScarborough(Malvern / Rouge)  ...  M9BEtobicoke(West Deane Park / Princess Garden...\n",
              "\n",
              "[2 rows x 9 columns]"
            ]
          },
          "metadata": {},
          "execution_count": 2
        }
      ]
    },
    {
      "cell_type": "code",
      "metadata": {
        "colab": {
          "base_uri": "https://localhost:8080/"
        },
        "id": "e0TGRSpugSbH",
        "outputId": "acf351f9-183a-43b0-e196-f4fb8cd4b96f"
      },
      "source": [
        "#Feature Engineering\n",
        "\n",
        "df1_T = df1.transpose()\n",
        "\n",
        "cols = df1.columns.values\n",
        "print(cols,'\\n')\n",
        "\n",
        "lst_PostalCode = []\n",
        "lst_Neigh = []\n",
        "lst_Borough = []\n",
        "# lst_temp = []\n",
        "i=1\n",
        "\n",
        "for c in range(len(cols)):\n",
        "        lst_temp = []\n",
        "        lst_temp.append(df1_T.iloc[c])\n",
        "        for t in lst_temp:\n",
        "            for j in range(len(t)):\n",
        "                lst_PostalCode.append(t[j][:3])\n",
        "                txt1 = re.search(r\"\\((.*)\\)\",t[j])\n",
        "                if txt1:\n",
        "                    lst_Neigh.append(txt1.group(1))\n",
        "                else:\n",
        "                    lst_Neigh.append('Not assigned')\n",
        "                txt2 = re.search(r\"(.*)\\(\",t[j][3:])\n",
        "                if txt2:\n",
        "                    lst_Borough.append(txt2.group(1))\n",
        "                else:\n",
        "                    lst_Borough.append('Not assigned')\n",
        "                \n",
        "                \n",
        "print(len(lst_PostalCode))\n",
        "print(len(lst_Neigh))\n",
        "print(len(lst_Borough))"
      ],
      "execution_count": 3,
      "outputs": [
        {
          "output_type": "stream",
          "text": [
            "[0 1 2 3 4 5 6 7 8] \n",
            "\n",
            "180\n",
            "180\n",
            "180\n"
          ],
          "name": "stdout"
        }
      ]
    },
    {
      "cell_type": "code",
      "metadata": {
        "colab": {
          "base_uri": "https://localhost:8080/",
          "height": 359
        },
        "id": "-aj4ibLxgzTl",
        "outputId": "48877a16-f0df-41a5-e38b-1074809346f9"
      },
      "source": [
        "#Creating DataFrame from list \n",
        "fin_df = pd.DataFrame(list(zip(lst_PostalCode,lst_Borough,lst_Neigh)),columns=['PostalCode','Borough','Neighborhood'])\n",
        "fin_df.head(10)"
      ],
      "execution_count": 4,
      "outputs": [
        {
          "output_type": "execute_result",
          "data": {
            "text/html": [
              "<div>\n",
              "<style scoped>\n",
              "    .dataframe tbody tr th:only-of-type {\n",
              "        vertical-align: middle;\n",
              "    }\n",
              "\n",
              "    .dataframe tbody tr th {\n",
              "        vertical-align: top;\n",
              "    }\n",
              "\n",
              "    .dataframe thead th {\n",
              "        text-align: right;\n",
              "    }\n",
              "</style>\n",
              "<table border=\"1\" class=\"dataframe\">\n",
              "  <thead>\n",
              "    <tr style=\"text-align: right;\">\n",
              "      <th></th>\n",
              "      <th>PostalCode</th>\n",
              "      <th>Borough</th>\n",
              "      <th>Neighborhood</th>\n",
              "    </tr>\n",
              "  </thead>\n",
              "  <tbody>\n",
              "    <tr>\n",
              "      <th>0</th>\n",
              "      <td>M1A</td>\n",
              "      <td>Not assigned</td>\n",
              "      <td>Not assigned</td>\n",
              "    </tr>\n",
              "    <tr>\n",
              "      <th>1</th>\n",
              "      <td>M1B</td>\n",
              "      <td>Scarborough</td>\n",
              "      <td>Malvern / Rouge</td>\n",
              "    </tr>\n",
              "    <tr>\n",
              "      <th>2</th>\n",
              "      <td>M1C</td>\n",
              "      <td>Scarborough</td>\n",
              "      <td>Rouge Hill / Port Union / Highland Creek</td>\n",
              "    </tr>\n",
              "    <tr>\n",
              "      <th>3</th>\n",
              "      <td>M1E</td>\n",
              "      <td>Scarborough</td>\n",
              "      <td>Guildwood / Morningside / West Hill</td>\n",
              "    </tr>\n",
              "    <tr>\n",
              "      <th>4</th>\n",
              "      <td>M1G</td>\n",
              "      <td>Scarborough</td>\n",
              "      <td>Woburn</td>\n",
              "    </tr>\n",
              "    <tr>\n",
              "      <th>5</th>\n",
              "      <td>M1H</td>\n",
              "      <td>Scarborough</td>\n",
              "      <td>Cedarbrae</td>\n",
              "    </tr>\n",
              "    <tr>\n",
              "      <th>6</th>\n",
              "      <td>M1J</td>\n",
              "      <td>Scarborough</td>\n",
              "      <td>Scarborough Village</td>\n",
              "    </tr>\n",
              "    <tr>\n",
              "      <th>7</th>\n",
              "      <td>M1K</td>\n",
              "      <td>Scarborough</td>\n",
              "      <td>Kennedy Park / Ionview / East Birchmount Park</td>\n",
              "    </tr>\n",
              "    <tr>\n",
              "      <th>8</th>\n",
              "      <td>M1L</td>\n",
              "      <td>Scarborough</td>\n",
              "      <td>Golden Mile / Clairlea / Oakridge</td>\n",
              "    </tr>\n",
              "    <tr>\n",
              "      <th>9</th>\n",
              "      <td>M1M</td>\n",
              "      <td>Scarborough</td>\n",
              "      <td>Cliffside / Cliffcrest / Scarborough Village West</td>\n",
              "    </tr>\n",
              "  </tbody>\n",
              "</table>\n",
              "</div>"
            ],
            "text/plain": [
              "  PostalCode       Borough                                       Neighborhood\n",
              "0        M1A  Not assigned                                       Not assigned\n",
              "1        M1B   Scarborough                                    Malvern / Rouge\n",
              "2        M1C   Scarborough           Rouge Hill / Port Union / Highland Creek\n",
              "3        M1E   Scarborough                Guildwood / Morningside / West Hill\n",
              "4        M1G   Scarborough                                             Woburn\n",
              "5        M1H   Scarborough                                          Cedarbrae\n",
              "6        M1J   Scarborough                                Scarborough Village\n",
              "7        M1K   Scarborough      Kennedy Park / Ionview / East Birchmount Park\n",
              "8        M1L   Scarborough                  Golden Mile / Clairlea / Oakridge\n",
              "9        M1M   Scarborough  Cliffside / Cliffcrest / Scarborough Village West"
            ]
          },
          "metadata": {},
          "execution_count": 4
        }
      ]
    },
    {
      "cell_type": "code",
      "metadata": {
        "colab": {
          "base_uri": "https://localhost:8080/",
          "height": 255
        },
        "id": "VQFmLLrog-9d",
        "outputId": "b9eba8ad-2359-46fc-df6f-313502d39a61"
      },
      "source": [
        "#replacing forward slash with comma \n",
        "fin_df=fin_df.apply(lambda x: x.str.replace('/',','))\n",
        "print(fin_df[fin_df['PostalCode']=='M5A'])\n",
        "print(fin_df.shape)\n",
        "fin_df.head()"
      ],
      "execution_count": 5,
      "outputs": [
        {
          "output_type": "stream",
          "text": [
            "   PostalCode           Borough                Neighborhood\n",
            "80        M5A  Downtown Toronto  Regent Park , Harbourfront\n",
            "(180, 3)\n"
          ],
          "name": "stdout"
        },
        {
          "output_type": "execute_result",
          "data": {
            "text/html": [
              "<div>\n",
              "<style scoped>\n",
              "    .dataframe tbody tr th:only-of-type {\n",
              "        vertical-align: middle;\n",
              "    }\n",
              "\n",
              "    .dataframe tbody tr th {\n",
              "        vertical-align: top;\n",
              "    }\n",
              "\n",
              "    .dataframe thead th {\n",
              "        text-align: right;\n",
              "    }\n",
              "</style>\n",
              "<table border=\"1\" class=\"dataframe\">\n",
              "  <thead>\n",
              "    <tr style=\"text-align: right;\">\n",
              "      <th></th>\n",
              "      <th>PostalCode</th>\n",
              "      <th>Borough</th>\n",
              "      <th>Neighborhood</th>\n",
              "    </tr>\n",
              "  </thead>\n",
              "  <tbody>\n",
              "    <tr>\n",
              "      <th>0</th>\n",
              "      <td>M1A</td>\n",
              "      <td>Not assigned</td>\n",
              "      <td>Not assigned</td>\n",
              "    </tr>\n",
              "    <tr>\n",
              "      <th>1</th>\n",
              "      <td>M1B</td>\n",
              "      <td>Scarborough</td>\n",
              "      <td>Malvern , Rouge</td>\n",
              "    </tr>\n",
              "    <tr>\n",
              "      <th>2</th>\n",
              "      <td>M1C</td>\n",
              "      <td>Scarborough</td>\n",
              "      <td>Rouge Hill , Port Union , Highland Creek</td>\n",
              "    </tr>\n",
              "    <tr>\n",
              "      <th>3</th>\n",
              "      <td>M1E</td>\n",
              "      <td>Scarborough</td>\n",
              "      <td>Guildwood , Morningside , West Hill</td>\n",
              "    </tr>\n",
              "    <tr>\n",
              "      <th>4</th>\n",
              "      <td>M1G</td>\n",
              "      <td>Scarborough</td>\n",
              "      <td>Woburn</td>\n",
              "    </tr>\n",
              "  </tbody>\n",
              "</table>\n",
              "</div>"
            ],
            "text/plain": [
              "  PostalCode       Borough                              Neighborhood\n",
              "0        M1A  Not assigned                              Not assigned\n",
              "1        M1B   Scarborough                           Malvern , Rouge\n",
              "2        M1C   Scarborough  Rouge Hill , Port Union , Highland Creek\n",
              "3        M1E   Scarborough       Guildwood , Morningside , West Hill\n",
              "4        M1G   Scarborough                                    Woburn"
            ]
          },
          "metadata": {},
          "execution_count": 5
        }
      ]
    },
    {
      "cell_type": "code",
      "metadata": {
        "colab": {
          "base_uri": "https://localhost:8080/"
        },
        "id": "pm3jf1crg_y-",
        "outputId": "f9859b45-8072-4a25-df10-888f9f9e7fbd"
      },
      "source": [
        "#counting 'Not assigned' Borough\n",
        "print(fin_df[fin_df.Borough=='Not assigned']['Borough'].count())\n",
        "print(fin_df[fin_df.Borough!='Not assigned']['Borough'].count())\n",
        "print(fin_df.shape)"
      ],
      "execution_count": 6,
      "outputs": [
        {
          "output_type": "stream",
          "text": [
            "77\n",
            "103\n",
            "(180, 3)\n"
          ],
          "name": "stdout"
        }
      ]
    },
    {
      "cell_type": "code",
      "metadata": {
        "colab": {
          "base_uri": "https://localhost:8080/"
        },
        "id": "Wd_2IRhFhI0c",
        "outputId": "ca3cace2-d63a-493a-88b4-b5ff60851673"
      },
      "source": [
        "#we are only considering data which has assigned Borough values.\n",
        "fin_df = fin_df[fin_df.Borough!='Not assigned']\n",
        "print(fin_df.shape)"
      ],
      "execution_count": 7,
      "outputs": [
        {
          "output_type": "stream",
          "text": [
            "(103, 3)\n"
          ],
          "name": "stdout"
        }
      ]
    },
    {
      "cell_type": "code",
      "metadata": {
        "id": "hlW1_sEyhXxM"
      },
      "source": [
        "#Combine all neighbourhoods where postcode and Borough are the same\n",
        "fin_df = fin_df.groupby(['PostalCode', 'Borough'])['Neighborhood'].apply(list).apply(lambda x:', '.join(x)).to_frame().reset_index()"
      ],
      "execution_count": 8,
      "outputs": []
    },
    {
      "cell_type": "code",
      "metadata": {
        "colab": {
          "base_uri": "https://localhost:8080/",
          "height": 204
        },
        "id": "acm4eu02hZQL",
        "outputId": "74b37276-c6eb-4d40-ee2a-7f307f1d9a8d"
      },
      "source": [
        "#if Neighbourhood is not assigned, replace by borough name\n",
        "for index, row in fin_df.iterrows():\n",
        "    if row['Neighborhood'] == 'Not assigned':\n",
        "        row['Neighborhood'] = row['Borough']\n",
        "\n",
        "# define the dataframe columns\n",
        "column_names = ['PostalCode','Borough', 'Neighborhood'] \n",
        "\n",
        "fin_df.columns = column_names\n",
        "\n",
        "fin_df.head()"
      ],
      "execution_count": 9,
      "outputs": [
        {
          "output_type": "execute_result",
          "data": {
            "text/html": [
              "<div>\n",
              "<style scoped>\n",
              "    .dataframe tbody tr th:only-of-type {\n",
              "        vertical-align: middle;\n",
              "    }\n",
              "\n",
              "    .dataframe tbody tr th {\n",
              "        vertical-align: top;\n",
              "    }\n",
              "\n",
              "    .dataframe thead th {\n",
              "        text-align: right;\n",
              "    }\n",
              "</style>\n",
              "<table border=\"1\" class=\"dataframe\">\n",
              "  <thead>\n",
              "    <tr style=\"text-align: right;\">\n",
              "      <th></th>\n",
              "      <th>PostalCode</th>\n",
              "      <th>Borough</th>\n",
              "      <th>Neighborhood</th>\n",
              "    </tr>\n",
              "  </thead>\n",
              "  <tbody>\n",
              "    <tr>\n",
              "      <th>0</th>\n",
              "      <td>M1B</td>\n",
              "      <td>Scarborough</td>\n",
              "      <td>Malvern , Rouge</td>\n",
              "    </tr>\n",
              "    <tr>\n",
              "      <th>1</th>\n",
              "      <td>M1C</td>\n",
              "      <td>Scarborough</td>\n",
              "      <td>Rouge Hill , Port Union , Highland Creek</td>\n",
              "    </tr>\n",
              "    <tr>\n",
              "      <th>2</th>\n",
              "      <td>M1E</td>\n",
              "      <td>Scarborough</td>\n",
              "      <td>Guildwood , Morningside , West Hill</td>\n",
              "    </tr>\n",
              "    <tr>\n",
              "      <th>3</th>\n",
              "      <td>M1G</td>\n",
              "      <td>Scarborough</td>\n",
              "      <td>Woburn</td>\n",
              "    </tr>\n",
              "    <tr>\n",
              "      <th>4</th>\n",
              "      <td>M1H</td>\n",
              "      <td>Scarborough</td>\n",
              "      <td>Cedarbrae</td>\n",
              "    </tr>\n",
              "  </tbody>\n",
              "</table>\n",
              "</div>"
            ],
            "text/plain": [
              "  PostalCode      Borough                              Neighborhood\n",
              "0        M1B  Scarborough                           Malvern , Rouge\n",
              "1        M1C  Scarborough  Rouge Hill , Port Union , Highland Creek\n",
              "2        M1E  Scarborough       Guildwood , Morningside , West Hill\n",
              "3        M1G  Scarborough                                    Woburn\n",
              "4        M1H  Scarborough                                 Cedarbrae"
            ]
          },
          "metadata": {},
          "execution_count": 9
        }
      ]
    },
    {
      "cell_type": "code",
      "metadata": {
        "colab": {
          "base_uri": "https://localhost:8080/"
        },
        "id": "kzHl6Rnbhbc2",
        "outputId": "aab2819b-29e1-4fe2-a471-27dbad3fe3b0"
      },
      "source": [
        "fin_df.shape"
      ],
      "execution_count": 10,
      "outputs": [
        {
          "output_type": "execute_result",
          "data": {
            "text/plain": [
              "(103, 3)"
            ]
          },
          "metadata": {},
          "execution_count": 10
        }
      ]
    },
    {
      "cell_type": "code",
      "metadata": {
        "id": "ItoH05aswL2L"
      },
      "source": [
        "fin_df.to_csv('Torronto_neighborhood_data_uj.csv',index=False)"
      ],
      "execution_count": 13,
      "outputs": []
    }
  ]
}