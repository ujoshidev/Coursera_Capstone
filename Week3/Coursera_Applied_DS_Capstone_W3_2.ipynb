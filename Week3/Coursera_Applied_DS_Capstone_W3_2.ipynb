{
  "nbformat": 4,
  "nbformat_minor": 0,
  "metadata": {
    "colab": {
      "name": "Coursera Applied DS Capstone.ipynb",
      "provenance": [],
      "collapsed_sections": [],
      "authorship_tag": "ABX9TyNN5D0q4mZqjKWEQzJhUuii"
    },
    "kernelspec": {
      "name": "python3",
      "display_name": "Python 3"
    },
    "language_info": {
      "name": "python"
    }
  },
  "cells": [
    {
      "cell_type": "markdown",
      "metadata": {
        "id": "8pC6zCCPrQYU"
      },
      "source": [
        "# Coursera Applied Data Science Capstone Project"
      ]
    },
    {
      "cell_type": "markdown",
      "metadata": {
        "id": "AQUMDQB_gJC-"
      },
      "source": [
        "#### Applied DS: Week3 Assignment"
      ]
    },
    {
      "cell_type": "code",
      "metadata": {
        "id": "49rqHM8erMWB",
        "colab": {
          "base_uri": "https://localhost:8080/"
        },
        "outputId": "03efdc0c-ff21-4dd5-9dc4-bb53eccee158"
      },
      "source": [
        "#Import libraries\n",
        "import pandas as pd\n",
        "import numpy as np\n",
        "import re\n",
        "print('success')"
      ],
      "execution_count": 21,
      "outputs": [
        {
          "output_type": "stream",
          "text": [
            "success\n"
          ],
          "name": "stdout"
        }
      ]
    },
    {
      "cell_type": "code",
      "metadata": {
        "colab": {
          "base_uri": "https://localhost:8080/",
          "height": 230
        },
        "id": "9NBCgiiQr05k",
        "outputId": "708d97fe-7ea1-4704-c503-9cd0e3437d8e"
      },
      "source": [
        "#Load Data into dataframe\n",
        "df1 =pd.read_html('https://en.wikipedia.org/wiki/List_of_postal_codes_of_Canada:_M')[0]\n",
        "print(df1.shape)\n",
        "df1.head(2)"
      ],
      "execution_count": 22,
      "outputs": [
        {
          "output_type": "stream",
          "text": [
            "(20, 9)\n"
          ],
          "name": "stdout"
        },
        {
          "output_type": "execute_result",
          "data": {
            "text/html": [
              "<div>\n",
              "<style scoped>\n",
              "    .dataframe tbody tr th:only-of-type {\n",
              "        vertical-align: middle;\n",
              "    }\n",
              "\n",
              "    .dataframe tbody tr th {\n",
              "        vertical-align: top;\n",
              "    }\n",
              "\n",
              "    .dataframe thead th {\n",
              "        text-align: right;\n",
              "    }\n",
              "</style>\n",
              "<table border=\"1\" class=\"dataframe\">\n",
              "  <thead>\n",
              "    <tr style=\"text-align: right;\">\n",
              "      <th></th>\n",
              "      <th>0</th>\n",
              "      <th>1</th>\n",
              "      <th>2</th>\n",
              "      <th>3</th>\n",
              "      <th>4</th>\n",
              "      <th>5</th>\n",
              "      <th>6</th>\n",
              "      <th>7</th>\n",
              "      <th>8</th>\n",
              "    </tr>\n",
              "  </thead>\n",
              "  <tbody>\n",
              "    <tr>\n",
              "      <th>0</th>\n",
              "      <td>M1ANot assigned</td>\n",
              "      <td>M2ANot assigned</td>\n",
              "      <td>M3ANorth York(Parkwoods)</td>\n",
              "      <td>M4ANorth York(Victoria Village)</td>\n",
              "      <td>M5ADowntown Toronto(Regent Park / Harbourfront)</td>\n",
              "      <td>M6ANorth York(Lawrence Manor / Lawrence Heights)</td>\n",
              "      <td>M7AQueen's Park(Ontario Provincial Government)</td>\n",
              "      <td>M8ANot assigned</td>\n",
              "      <td>M9AEtobicoke(Islington Avenue)</td>\n",
              "    </tr>\n",
              "    <tr>\n",
              "      <th>1</th>\n",
              "      <td>M1BScarborough(Malvern / Rouge)</td>\n",
              "      <td>M2BNot assigned</td>\n",
              "      <td>M3BNorth York(Don Mills)North</td>\n",
              "      <td>M4BEast York(Parkview Hill / Woodbine Gardens)</td>\n",
              "      <td>M5BDowntown Toronto(Garden District, Ryerson)</td>\n",
              "      <td>M6BNorth York(Glencairn)</td>\n",
              "      <td>M7BNot assigned</td>\n",
              "      <td>M8BNot assigned</td>\n",
              "      <td>M9BEtobicoke(West Deane Park / Princess Garden...</td>\n",
              "    </tr>\n",
              "  </tbody>\n",
              "</table>\n",
              "</div>"
            ],
            "text/plain": [
              "                                 0  ...                                                  8\n",
              "0                  M1ANot assigned  ...                     M9AEtobicoke(Islington Avenue)\n",
              "1  M1BScarborough(Malvern / Rouge)  ...  M9BEtobicoke(West Deane Park / Princess Garden...\n",
              "\n",
              "[2 rows x 9 columns]"
            ]
          },
          "metadata": {},
          "execution_count": 22
        }
      ]
    },
    {
      "cell_type": "code",
      "metadata": {
        "colab": {
          "base_uri": "https://localhost:8080/"
        },
        "id": "e0TGRSpugSbH",
        "outputId": "0f51b3e7-b509-4258-9628-cd5cd6828d5a"
      },
      "source": [
        "#Feature Engineering\n",
        "\n",
        "df1_T = df1.transpose()\n",
        "\n",
        "cols = df1.columns.values\n",
        "print(cols,'\\n')\n",
        "\n",
        "lst_PostalCode = []\n",
        "lst_Neigh = []\n",
        "lst_Borough = []\n",
        "# lst_temp = []\n",
        "i=1\n",
        "\n",
        "for c in range(len(cols)):\n",
        "        lst_temp = []\n",
        "        lst_temp.append(df1_T.iloc[c])\n",
        "        for t in lst_temp:\n",
        "            for j in range(len(t)):\n",
        "                lst_PostalCode.append(t[j][:3])\n",
        "                txt1 = re.search(r\"\\((.*)\\)\",t[j])\n",
        "                if txt1:\n",
        "                    lst_Neigh.append(txt1.group(1))\n",
        "                else:\n",
        "                    lst_Neigh.append('Not assigned')\n",
        "                txt2 = re.search(r\"(.*)\\(\",t[j][3:])\n",
        "                if txt2:\n",
        "                    lst_Borough.append(txt2.group(1))\n",
        "                else:\n",
        "                    lst_Borough.append('Not assigned')\n",
        "                \n",
        "                \n",
        "print(len(lst_PostalCode))\n",
        "print(len(lst_Neigh))\n",
        "print(len(lst_Borough))"
      ],
      "execution_count": 23,
      "outputs": [
        {
          "output_type": "stream",
          "text": [
            "[0 1 2 3 4 5 6 7 8] \n",
            "\n",
            "180\n",
            "180\n",
            "180\n"
          ],
          "name": "stdout"
        }
      ]
    },
    {
      "cell_type": "code",
      "metadata": {
        "colab": {
          "base_uri": "https://localhost:8080/",
          "height": 359
        },
        "id": "-aj4ibLxgzTl",
        "outputId": "33a0d266-96bc-462c-8680-c2ba1c80e069"
      },
      "source": [
        "#Creating DataFrame from list \n",
        "fin_df = pd.DataFrame(list(zip(lst_PostalCode,lst_Borough,lst_Neigh)),columns=['Postal Code','Borough','Neighborhood'])\n",
        "fin_df.head(10)"
      ],
      "execution_count": 24,
      "outputs": [
        {
          "output_type": "execute_result",
          "data": {
            "text/html": [
              "<div>\n",
              "<style scoped>\n",
              "    .dataframe tbody tr th:only-of-type {\n",
              "        vertical-align: middle;\n",
              "    }\n",
              "\n",
              "    .dataframe tbody tr th {\n",
              "        vertical-align: top;\n",
              "    }\n",
              "\n",
              "    .dataframe thead th {\n",
              "        text-align: right;\n",
              "    }\n",
              "</style>\n",
              "<table border=\"1\" class=\"dataframe\">\n",
              "  <thead>\n",
              "    <tr style=\"text-align: right;\">\n",
              "      <th></th>\n",
              "      <th>Postal Code</th>\n",
              "      <th>Borough</th>\n",
              "      <th>Neighborhood</th>\n",
              "    </tr>\n",
              "  </thead>\n",
              "  <tbody>\n",
              "    <tr>\n",
              "      <th>0</th>\n",
              "      <td>M1A</td>\n",
              "      <td>Not assigned</td>\n",
              "      <td>Not assigned</td>\n",
              "    </tr>\n",
              "    <tr>\n",
              "      <th>1</th>\n",
              "      <td>M1B</td>\n",
              "      <td>Scarborough</td>\n",
              "      <td>Malvern / Rouge</td>\n",
              "    </tr>\n",
              "    <tr>\n",
              "      <th>2</th>\n",
              "      <td>M1C</td>\n",
              "      <td>Scarborough</td>\n",
              "      <td>Rouge Hill / Port Union / Highland Creek</td>\n",
              "    </tr>\n",
              "    <tr>\n",
              "      <th>3</th>\n",
              "      <td>M1E</td>\n",
              "      <td>Scarborough</td>\n",
              "      <td>Guildwood / Morningside / West Hill</td>\n",
              "    </tr>\n",
              "    <tr>\n",
              "      <th>4</th>\n",
              "      <td>M1G</td>\n",
              "      <td>Scarborough</td>\n",
              "      <td>Woburn</td>\n",
              "    </tr>\n",
              "    <tr>\n",
              "      <th>5</th>\n",
              "      <td>M1H</td>\n",
              "      <td>Scarborough</td>\n",
              "      <td>Cedarbrae</td>\n",
              "    </tr>\n",
              "    <tr>\n",
              "      <th>6</th>\n",
              "      <td>M1J</td>\n",
              "      <td>Scarborough</td>\n",
              "      <td>Scarborough Village</td>\n",
              "    </tr>\n",
              "    <tr>\n",
              "      <th>7</th>\n",
              "      <td>M1K</td>\n",
              "      <td>Scarborough</td>\n",
              "      <td>Kennedy Park / Ionview / East Birchmount Park</td>\n",
              "    </tr>\n",
              "    <tr>\n",
              "      <th>8</th>\n",
              "      <td>M1L</td>\n",
              "      <td>Scarborough</td>\n",
              "      <td>Golden Mile / Clairlea / Oakridge</td>\n",
              "    </tr>\n",
              "    <tr>\n",
              "      <th>9</th>\n",
              "      <td>M1M</td>\n",
              "      <td>Scarborough</td>\n",
              "      <td>Cliffside / Cliffcrest / Scarborough Village West</td>\n",
              "    </tr>\n",
              "  </tbody>\n",
              "</table>\n",
              "</div>"
            ],
            "text/plain": [
              "  Postal Code       Borough                                       Neighborhood\n",
              "0         M1A  Not assigned                                       Not assigned\n",
              "1         M1B   Scarborough                                    Malvern / Rouge\n",
              "2         M1C   Scarborough           Rouge Hill / Port Union / Highland Creek\n",
              "3         M1E   Scarborough                Guildwood / Morningside / West Hill\n",
              "4         M1G   Scarborough                                             Woburn\n",
              "5         M1H   Scarborough                                          Cedarbrae\n",
              "6         M1J   Scarborough                                Scarborough Village\n",
              "7         M1K   Scarborough      Kennedy Park / Ionview / East Birchmount Park\n",
              "8         M1L   Scarborough                  Golden Mile / Clairlea / Oakridge\n",
              "9         M1M   Scarborough  Cliffside / Cliffcrest / Scarborough Village West"
            ]
          },
          "metadata": {},
          "execution_count": 24
        }
      ]
    },
    {
      "cell_type": "code",
      "metadata": {
        "colab": {
          "base_uri": "https://localhost:8080/",
          "height": 255
        },
        "id": "VQFmLLrog-9d",
        "outputId": "2a765dc7-0734-4e7c-e65a-6fb407ba0ca5"
      },
      "source": [
        "#replacing forward slash with comma \n",
        "fin_df=fin_df.apply(lambda x: x.str.replace('/',','))\n",
        "print(fin_df[fin_df['Postal Code']=='M5A'])\n",
        "print(fin_df.shape)\n",
        "fin_df.head()"
      ],
      "execution_count": 25,
      "outputs": [
        {
          "output_type": "stream",
          "text": [
            "   Postal Code           Borough                Neighborhood\n",
            "80         M5A  Downtown Toronto  Regent Park , Harbourfront\n",
            "(180, 3)\n"
          ],
          "name": "stdout"
        },
        {
          "output_type": "execute_result",
          "data": {
            "text/html": [
              "<div>\n",
              "<style scoped>\n",
              "    .dataframe tbody tr th:only-of-type {\n",
              "        vertical-align: middle;\n",
              "    }\n",
              "\n",
              "    .dataframe tbody tr th {\n",
              "        vertical-align: top;\n",
              "    }\n",
              "\n",
              "    .dataframe thead th {\n",
              "        text-align: right;\n",
              "    }\n",
              "</style>\n",
              "<table border=\"1\" class=\"dataframe\">\n",
              "  <thead>\n",
              "    <tr style=\"text-align: right;\">\n",
              "      <th></th>\n",
              "      <th>Postal Code</th>\n",
              "      <th>Borough</th>\n",
              "      <th>Neighborhood</th>\n",
              "    </tr>\n",
              "  </thead>\n",
              "  <tbody>\n",
              "    <tr>\n",
              "      <th>0</th>\n",
              "      <td>M1A</td>\n",
              "      <td>Not assigned</td>\n",
              "      <td>Not assigned</td>\n",
              "    </tr>\n",
              "    <tr>\n",
              "      <th>1</th>\n",
              "      <td>M1B</td>\n",
              "      <td>Scarborough</td>\n",
              "      <td>Malvern , Rouge</td>\n",
              "    </tr>\n",
              "    <tr>\n",
              "      <th>2</th>\n",
              "      <td>M1C</td>\n",
              "      <td>Scarborough</td>\n",
              "      <td>Rouge Hill , Port Union , Highland Creek</td>\n",
              "    </tr>\n",
              "    <tr>\n",
              "      <th>3</th>\n",
              "      <td>M1E</td>\n",
              "      <td>Scarborough</td>\n",
              "      <td>Guildwood , Morningside , West Hill</td>\n",
              "    </tr>\n",
              "    <tr>\n",
              "      <th>4</th>\n",
              "      <td>M1G</td>\n",
              "      <td>Scarborough</td>\n",
              "      <td>Woburn</td>\n",
              "    </tr>\n",
              "  </tbody>\n",
              "</table>\n",
              "</div>"
            ],
            "text/plain": [
              "  Postal Code       Borough                              Neighborhood\n",
              "0         M1A  Not assigned                              Not assigned\n",
              "1         M1B   Scarborough                           Malvern , Rouge\n",
              "2         M1C   Scarborough  Rouge Hill , Port Union , Highland Creek\n",
              "3         M1E   Scarborough       Guildwood , Morningside , West Hill\n",
              "4         M1G   Scarborough                                    Woburn"
            ]
          },
          "metadata": {},
          "execution_count": 25
        }
      ]
    },
    {
      "cell_type": "code",
      "metadata": {
        "colab": {
          "base_uri": "https://localhost:8080/"
        },
        "id": "pm3jf1crg_y-",
        "outputId": "19cd4fd1-67f1-40dd-a5c8-e6133e479963"
      },
      "source": [
        "#counting 'Not assigned' Borough\n",
        "print(fin_df[fin_df.Borough=='Not assigned']['Borough'].count())\n",
        "print(fin_df[fin_df.Borough!='Not assigned']['Borough'].count())\n",
        "print(fin_df.shape)"
      ],
      "execution_count": 26,
      "outputs": [
        {
          "output_type": "stream",
          "text": [
            "77\n",
            "103\n",
            "(180, 3)\n"
          ],
          "name": "stdout"
        }
      ]
    },
    {
      "cell_type": "code",
      "metadata": {
        "colab": {
          "base_uri": "https://localhost:8080/"
        },
        "id": "Wd_2IRhFhI0c",
        "outputId": "096c1546-937b-4ac2-e93a-cdd331387933"
      },
      "source": [
        "#we are only considering data which has assigned Borough values.\n",
        "fin_df = fin_df[fin_df.Borough!='Not assigned']\n",
        "print(fin_df.shape)"
      ],
      "execution_count": 27,
      "outputs": [
        {
          "output_type": "stream",
          "text": [
            "(103, 3)\n"
          ],
          "name": "stdout"
        }
      ]
    },
    {
      "cell_type": "code",
      "metadata": {
        "id": "hlW1_sEyhXxM"
      },
      "source": [
        "#Combine all neighbourhoods where postcode and Borough are the same\n",
        "fin_df = fin_df.groupby(['Postal Code', 'Borough'])['Neighborhood'].apply(list).apply(lambda x:', '.join(x)).to_frame().reset_index()"
      ],
      "execution_count": 28,
      "outputs": []
    },
    {
      "cell_type": "code",
      "metadata": {
        "colab": {
          "base_uri": "https://localhost:8080/",
          "height": 204
        },
        "id": "acm4eu02hZQL",
        "outputId": "fb09c9b7-66e7-4711-810d-a3d20d1aafd4"
      },
      "source": [
        "#if Neighbourhood is not assigned, replace by borough name\n",
        "for index, row in fin_df.iterrows():\n",
        "    if row['Neighborhood'] == 'Not assigned':\n",
        "        row['Neighborhood'] = row['Borough']\n",
        "\n",
        "# define the dataframe columns\n",
        "column_names = ['Postal Code','Borough', 'Neighborhood'] \n",
        "\n",
        "fin_df.columns = column_names\n",
        "\n",
        "fin_df.head()"
      ],
      "execution_count": 29,
      "outputs": [
        {
          "output_type": "execute_result",
          "data": {
            "text/html": [
              "<div>\n",
              "<style scoped>\n",
              "    .dataframe tbody tr th:only-of-type {\n",
              "        vertical-align: middle;\n",
              "    }\n",
              "\n",
              "    .dataframe tbody tr th {\n",
              "        vertical-align: top;\n",
              "    }\n",
              "\n",
              "    .dataframe thead th {\n",
              "        text-align: right;\n",
              "    }\n",
              "</style>\n",
              "<table border=\"1\" class=\"dataframe\">\n",
              "  <thead>\n",
              "    <tr style=\"text-align: right;\">\n",
              "      <th></th>\n",
              "      <th>Postal Code</th>\n",
              "      <th>Borough</th>\n",
              "      <th>Neighborhood</th>\n",
              "    </tr>\n",
              "  </thead>\n",
              "  <tbody>\n",
              "    <tr>\n",
              "      <th>0</th>\n",
              "      <td>M1B</td>\n",
              "      <td>Scarborough</td>\n",
              "      <td>Malvern , Rouge</td>\n",
              "    </tr>\n",
              "    <tr>\n",
              "      <th>1</th>\n",
              "      <td>M1C</td>\n",
              "      <td>Scarborough</td>\n",
              "      <td>Rouge Hill , Port Union , Highland Creek</td>\n",
              "    </tr>\n",
              "    <tr>\n",
              "      <th>2</th>\n",
              "      <td>M1E</td>\n",
              "      <td>Scarborough</td>\n",
              "      <td>Guildwood , Morningside , West Hill</td>\n",
              "    </tr>\n",
              "    <tr>\n",
              "      <th>3</th>\n",
              "      <td>M1G</td>\n",
              "      <td>Scarborough</td>\n",
              "      <td>Woburn</td>\n",
              "    </tr>\n",
              "    <tr>\n",
              "      <th>4</th>\n",
              "      <td>M1H</td>\n",
              "      <td>Scarborough</td>\n",
              "      <td>Cedarbrae</td>\n",
              "    </tr>\n",
              "  </tbody>\n",
              "</table>\n",
              "</div>"
            ],
            "text/plain": [
              "  Postal Code      Borough                              Neighborhood\n",
              "0         M1B  Scarborough                           Malvern , Rouge\n",
              "1         M1C  Scarborough  Rouge Hill , Port Union , Highland Creek\n",
              "2         M1E  Scarborough       Guildwood , Morningside , West Hill\n",
              "3         M1G  Scarborough                                    Woburn\n",
              "4         M1H  Scarborough                                 Cedarbrae"
            ]
          },
          "metadata": {},
          "execution_count": 29
        }
      ]
    },
    {
      "cell_type": "code",
      "metadata": {
        "colab": {
          "base_uri": "https://localhost:8080/"
        },
        "id": "kzHl6Rnbhbc2",
        "outputId": "7f2ca8da-8c01-4d3c-83a1-286c743704dc"
      },
      "source": [
        "fin_df.shape"
      ],
      "execution_count": 30,
      "outputs": [
        {
          "output_type": "execute_result",
          "data": {
            "text/plain": [
              "(103, 3)"
            ]
          },
          "metadata": {},
          "execution_count": 30
        }
      ]
    },
    {
      "cell_type": "code",
      "metadata": {
        "id": "og0np2JOlLiM"
      },
      "source": [
        "# pip install geocoder"
      ],
      "execution_count": 31,
      "outputs": []
    },
    {
      "cell_type": "code",
      "metadata": {
        "colab": {
          "base_uri": "https://localhost:8080/",
          "height": 204
        },
        "id": "LxdwtE_9klSM",
        "outputId": "f5bc2957-d205-4c2b-9f74-9dfeaa9fb9be"
      },
      "source": [
        "df_latlng = pd.read_csv('https://cf-courses-data.s3.us.cloud-object-storage.appdomain.cloud/IBMDeveloperSkillsNetwork-DS0701EN-SkillsNetwork/labs_v1/Geospatial_Coordinates.csv')\n",
        "df_latlng.head()"
      ],
      "execution_count": 32,
      "outputs": [
        {
          "output_type": "execute_result",
          "data": {
            "text/html": [
              "<div>\n",
              "<style scoped>\n",
              "    .dataframe tbody tr th:only-of-type {\n",
              "        vertical-align: middle;\n",
              "    }\n",
              "\n",
              "    .dataframe tbody tr th {\n",
              "        vertical-align: top;\n",
              "    }\n",
              "\n",
              "    .dataframe thead th {\n",
              "        text-align: right;\n",
              "    }\n",
              "</style>\n",
              "<table border=\"1\" class=\"dataframe\">\n",
              "  <thead>\n",
              "    <tr style=\"text-align: right;\">\n",
              "      <th></th>\n",
              "      <th>Postal Code</th>\n",
              "      <th>Latitude</th>\n",
              "      <th>Longitude</th>\n",
              "    </tr>\n",
              "  </thead>\n",
              "  <tbody>\n",
              "    <tr>\n",
              "      <th>0</th>\n",
              "      <td>M1B</td>\n",
              "      <td>43.806686</td>\n",
              "      <td>-79.194353</td>\n",
              "    </tr>\n",
              "    <tr>\n",
              "      <th>1</th>\n",
              "      <td>M1C</td>\n",
              "      <td>43.784535</td>\n",
              "      <td>-79.160497</td>\n",
              "    </tr>\n",
              "    <tr>\n",
              "      <th>2</th>\n",
              "      <td>M1E</td>\n",
              "      <td>43.763573</td>\n",
              "      <td>-79.188711</td>\n",
              "    </tr>\n",
              "    <tr>\n",
              "      <th>3</th>\n",
              "      <td>M1G</td>\n",
              "      <td>43.770992</td>\n",
              "      <td>-79.216917</td>\n",
              "    </tr>\n",
              "    <tr>\n",
              "      <th>4</th>\n",
              "      <td>M1H</td>\n",
              "      <td>43.773136</td>\n",
              "      <td>-79.239476</td>\n",
              "    </tr>\n",
              "  </tbody>\n",
              "</table>\n",
              "</div>"
            ],
            "text/plain": [
              "  Postal Code   Latitude  Longitude\n",
              "0         M1B  43.806686 -79.194353\n",
              "1         M1C  43.784535 -79.160497\n",
              "2         M1E  43.763573 -79.188711\n",
              "3         M1G  43.770992 -79.216917\n",
              "4         M1H  43.773136 -79.239476"
            ]
          },
          "metadata": {},
          "execution_count": 32
        }
      ]
    },
    {
      "cell_type": "code",
      "metadata": {
        "colab": {
          "base_uri": "https://localhost:8080/"
        },
        "id": "MskmM6GXoPCN",
        "outputId": "ad9c4498-1282-44a4-ef66-ce4f47aef7c8"
      },
      "source": [
        "print(fin_df.dtypes)\n",
        "print(df_latlng.dtypes)"
      ],
      "execution_count": 37,
      "outputs": [
        {
          "output_type": "stream",
          "text": [
            "Postal Code     object\n",
            "Borough         object\n",
            "Neighborhood    object\n",
            "dtype: object\n",
            "Postal Code     object\n",
            "Latitude       float64\n",
            "Longitude      float64\n",
            "dtype: object\n"
          ],
          "name": "stdout"
        }
      ]
    },
    {
      "cell_type": "code",
      "metadata": {
        "colab": {
          "base_uri": "https://localhost:8080/",
          "height": 419
        },
        "id": "_kbpbV3CmkX7",
        "outputId": "366f9766-8271-47dd-b8ad-72acc6757db6"
      },
      "source": [
        "fin_df = fin_df.merge(df_latlng,on='Postal Code',how='outer')\n",
        "fin_df"
      ],
      "execution_count": 39,
      "outputs": [
        {
          "output_type": "execute_result",
          "data": {
            "text/html": [
              "<div>\n",
              "<style scoped>\n",
              "    .dataframe tbody tr th:only-of-type {\n",
              "        vertical-align: middle;\n",
              "    }\n",
              "\n",
              "    .dataframe tbody tr th {\n",
              "        vertical-align: top;\n",
              "    }\n",
              "\n",
              "    .dataframe thead th {\n",
              "        text-align: right;\n",
              "    }\n",
              "</style>\n",
              "<table border=\"1\" class=\"dataframe\">\n",
              "  <thead>\n",
              "    <tr style=\"text-align: right;\">\n",
              "      <th></th>\n",
              "      <th>Postal Code</th>\n",
              "      <th>Borough</th>\n",
              "      <th>Neighborhood</th>\n",
              "      <th>Latitude</th>\n",
              "      <th>Longitude</th>\n",
              "    </tr>\n",
              "  </thead>\n",
              "  <tbody>\n",
              "    <tr>\n",
              "      <th>0</th>\n",
              "      <td>M1B</td>\n",
              "      <td>Scarborough</td>\n",
              "      <td>Malvern , Rouge</td>\n",
              "      <td>43.806686</td>\n",
              "      <td>-79.194353</td>\n",
              "    </tr>\n",
              "    <tr>\n",
              "      <th>1</th>\n",
              "      <td>M1C</td>\n",
              "      <td>Scarborough</td>\n",
              "      <td>Rouge Hill , Port Union , Highland Creek</td>\n",
              "      <td>43.784535</td>\n",
              "      <td>-79.160497</td>\n",
              "    </tr>\n",
              "    <tr>\n",
              "      <th>2</th>\n",
              "      <td>M1E</td>\n",
              "      <td>Scarborough</td>\n",
              "      <td>Guildwood , Morningside , West Hill</td>\n",
              "      <td>43.763573</td>\n",
              "      <td>-79.188711</td>\n",
              "    </tr>\n",
              "    <tr>\n",
              "      <th>3</th>\n",
              "      <td>M1G</td>\n",
              "      <td>Scarborough</td>\n",
              "      <td>Woburn</td>\n",
              "      <td>43.770992</td>\n",
              "      <td>-79.216917</td>\n",
              "    </tr>\n",
              "    <tr>\n",
              "      <th>4</th>\n",
              "      <td>M1H</td>\n",
              "      <td>Scarborough</td>\n",
              "      <td>Cedarbrae</td>\n",
              "      <td>43.773136</td>\n",
              "      <td>-79.239476</td>\n",
              "    </tr>\n",
              "    <tr>\n",
              "      <th>...</th>\n",
              "      <td>...</td>\n",
              "      <td>...</td>\n",
              "      <td>...</td>\n",
              "      <td>...</td>\n",
              "      <td>...</td>\n",
              "    </tr>\n",
              "    <tr>\n",
              "      <th>98</th>\n",
              "      <td>M9N</td>\n",
              "      <td>York</td>\n",
              "      <td>Weston</td>\n",
              "      <td>43.706876</td>\n",
              "      <td>-79.518188</td>\n",
              "    </tr>\n",
              "    <tr>\n",
              "      <th>99</th>\n",
              "      <td>M9P</td>\n",
              "      <td>Etobicoke</td>\n",
              "      <td>Westmount</td>\n",
              "      <td>43.696319</td>\n",
              "      <td>-79.532242</td>\n",
              "    </tr>\n",
              "    <tr>\n",
              "      <th>100</th>\n",
              "      <td>M9R</td>\n",
              "      <td>Etobicoke</td>\n",
              "      <td>Kingsview Village , St. Phillips , Martin Grov...</td>\n",
              "      <td>43.688905</td>\n",
              "      <td>-79.554724</td>\n",
              "    </tr>\n",
              "    <tr>\n",
              "      <th>101</th>\n",
              "      <td>M9V</td>\n",
              "      <td>Etobicoke</td>\n",
              "      <td>South Steeles , Silverstone , Humbergate , Jam...</td>\n",
              "      <td>43.739416</td>\n",
              "      <td>-79.588437</td>\n",
              "    </tr>\n",
              "    <tr>\n",
              "      <th>102</th>\n",
              "      <td>M9W</td>\n",
              "      <td>EtobicokeNorthwest</td>\n",
              "      <td>Clairville , Humberwood , Woodbine Downs , Wes...</td>\n",
              "      <td>43.706748</td>\n",
              "      <td>-79.594054</td>\n",
              "    </tr>\n",
              "  </tbody>\n",
              "</table>\n",
              "<p>103 rows × 5 columns</p>\n",
              "</div>"
            ],
            "text/plain": [
              "    Postal Code             Borough  ...   Latitude  Longitude\n",
              "0           M1B         Scarborough  ...  43.806686 -79.194353\n",
              "1           M1C         Scarborough  ...  43.784535 -79.160497\n",
              "2           M1E         Scarborough  ...  43.763573 -79.188711\n",
              "3           M1G         Scarborough  ...  43.770992 -79.216917\n",
              "4           M1H         Scarborough  ...  43.773136 -79.239476\n",
              "..          ...                 ...  ...        ...        ...\n",
              "98          M9N                York  ...  43.706876 -79.518188\n",
              "99          M9P           Etobicoke  ...  43.696319 -79.532242\n",
              "100         M9R           Etobicoke  ...  43.688905 -79.554724\n",
              "101         M9V           Etobicoke  ...  43.739416 -79.588437\n",
              "102         M9W  EtobicokeNorthwest  ...  43.706748 -79.594054\n",
              "\n",
              "[103 rows x 5 columns]"
            ]
          },
          "metadata": {},
          "execution_count": 39
        }
      ]
    }
  ]
}