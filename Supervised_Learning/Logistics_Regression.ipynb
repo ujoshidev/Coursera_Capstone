{
  "nbformat": 4,
  "nbformat_minor": 0,
  "metadata": {
    "colab": {
      "name": "Logistics Regression.ipynb",
      "provenance": [],
      "authorship_tag": "ABX9TyO5wP6loRAeQSd2sv6DLc+6"
    },
    "kernelspec": {
      "name": "python3",
      "display_name": "Python 3"
    },
    "language_info": {
      "name": "python"
    }
  },
  "cells": [
    {
      "cell_type": "markdown",
      "metadata": {
        "id": "DkgG3xYn9XPX"
      },
      "source": [
        "# Logistics Regression"
      ]
    },
    {
      "cell_type": "markdown",
      "metadata": {
        "id": "47DOtltR9Vv8"
      },
      "source": [
        "Logistic Regression attempts to model the probability that an instance belongs to one of two classes.<br>\n",
        "\n",
        "Again it attempts to optimize the a & b parameters in order to model p =1/(1+e-(ax+b).<br>\n",
        "\n",
        "We will use sklean brest cancer dataset and will create simple logistic regression\n"
      ]
    },
    {
      "cell_type": "code",
      "metadata": {
        "colab": {
          "base_uri": "https://localhost:8080/"
        },
        "id": "CahBfIz4-DoY",
        "outputId": "f47d51e6-751b-4ddc-9e4c-acfb1f2b3492"
      },
      "source": [
        "# Import libraries\n",
        "\n",
        "# !pip uninstall scikit-learn -y\n",
        "\n",
        "# !pip install -U scikit-learn\n",
        "from sklearn.linear_model import LogisticRegression\n",
        "from sklearn.datasets import load_breast_cancer\n",
        "from sklearn import metrics\n",
        "from sklearn.model_selection import train_test_split\n",
        "\n",
        "print('complete')"
      ],
      "execution_count": 3,
      "outputs": [
        {
          "output_type": "stream",
          "text": [
            "complete\n"
          ],
          "name": "stdout"
        }
      ]
    },
    {
      "cell_type": "code",
      "metadata": {
        "colab": {
          "base_uri": "https://localhost:8080/"
        },
        "id": "Q7mpPX1W-379",
        "outputId": "62f599d1-f2de-4a75-9208-714c48f33793"
      },
      "source": [
        "X,y = load_breast_cancer(as_frame=True,return_X_y=True)\n",
        "print(X.shape)\n",
        "print(y.shape)"
      ],
      "execution_count": 2,
      "outputs": [
        {
          "output_type": "stream",
          "text": [
            "(569, 30)\n",
            "(569,)\n"
          ],
          "name": "stdout"
        }
      ]
    },
    {
      "cell_type": "code",
      "metadata": {
        "colab": {
          "base_uri": "https://localhost:8080/"
        },
        "id": "B5hnRYhTAcHb",
        "outputId": "56e6e145-ec7a-4e39-b3c3-bd68572cf5cc"
      },
      "source": [
        "# Checking data distribution of target variable\n",
        "y.value_counts()"
      ],
      "execution_count": 4,
      "outputs": [
        {
          "output_type": "execute_result",
          "data": {
            "text/plain": [
              "1    357\n",
              "0    212\n",
              "Name: target, dtype: int64"
            ]
          },
          "metadata": {},
          "execution_count": 4
        }
      ]
    },
    {
      "cell_type": "code",
      "metadata": {
        "colab": {
          "base_uri": "https://localhost:8080/"
        },
        "id": "9ZMUNeQxAn6x",
        "outputId": "63e0f701-8ef0-4710-864a-98e46cd3dca6"
      },
      "source": [
        "# Checking null values\n",
        "print(X.isnull().sum())\n",
        "print(y.isnull().sum())"
      ],
      "execution_count": 8,
      "outputs": [
        {
          "output_type": "stream",
          "text": [
            "mean radius                0\n",
            "mean texture               0\n",
            "mean perimeter             0\n",
            "mean area                  0\n",
            "mean smoothness            0\n",
            "mean compactness           0\n",
            "mean concavity             0\n",
            "mean concave points        0\n",
            "mean symmetry              0\n",
            "mean fractal dimension     0\n",
            "radius error               0\n",
            "texture error              0\n",
            "perimeter error            0\n",
            "area error                 0\n",
            "smoothness error           0\n",
            "compactness error          0\n",
            "concavity error            0\n",
            "concave points error       0\n",
            "symmetry error             0\n",
            "fractal dimension error    0\n",
            "worst radius               0\n",
            "worst texture              0\n",
            "worst perimeter            0\n",
            "worst area                 0\n",
            "worst smoothness           0\n",
            "worst compactness          0\n",
            "worst concavity            0\n",
            "worst concave points       0\n",
            "worst symmetry             0\n",
            "worst fractal dimension    0\n",
            "dtype: int64\n",
            "0\n"
          ],
          "name": "stdout"
        }
      ]
    },
    {
      "cell_type": "code",
      "metadata": {
        "colab": {
          "base_uri": "https://localhost:8080/"
        },
        "id": "HOkBuP33ARqJ",
        "outputId": "dd396794-4766-4eae-9efa-2376df28a6c5"
      },
      "source": [
        "# Splitting data\n",
        "X_train,X_test,y_train,y_test = train_test_split(X,y,test_size=0.25,random_state=42)\n",
        "print(X_train.shape,'   ',y_train.shape)\n",
        "print(X_test.shape,'   ',y_test.shape)"
      ],
      "execution_count": 10,
      "outputs": [
        {
          "output_type": "stream",
          "text": [
            "(426, 30)     (426,)\n",
            "(143, 30)     (143,)\n"
          ],
          "name": "stdout"
        }
      ]
    },
    {
      "cell_type": "code",
      "metadata": {
        "id": "AIJ28CKyBJAy"
      },
      "source": [
        "# Building model\n",
        "model_lg = LogisticRegression(solver='lbfgs', max_iter=1900)\n",
        "model_lg.fit(X_train,y_train)\n",
        "ypred_lg = model_lg.predict(X_test)\n",
        "\n"
      ],
      "execution_count": 37,
      "outputs": []
    },
    {
      "cell_type": "code",
      "metadata": {
        "colab": {
          "base_uri": "https://localhost:8080/"
        },
        "id": "lHhdRLr5CCwe",
        "outputId": "5924b0f1-1db3-41ac-963d-d0988ea47649"
      },
      "source": [
        "print('Accuracy:', round(metrics.accuracy_score(ypred_lg,y_test),2))\n",
        "print('MSE:', metrics.mean_squared_error(ypred_lg,y_test))\n",
        "print('R2:', metrics.r2_score(ypred_lg,y_test))"
      ],
      "execution_count": 38,
      "outputs": [
        {
          "output_type": "stream",
          "text": [
            "Accuracy: 0.97\n",
            "MSE: 0.03496503496503497\n",
            "R2: 0.850104821802935\n"
          ],
          "name": "stdout"
        }
      ]
    }
  ]
}